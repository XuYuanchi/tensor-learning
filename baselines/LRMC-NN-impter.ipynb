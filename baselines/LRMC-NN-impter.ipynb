{
 "cells": [
  {
   "cell_type": "markdown",
   "metadata": {},
   "source": [
    "## Low-Rank Matrix Completion Imputer Based on Nuclear Norm  (LRMC-NN-imputer)\n",
    "\n",
    "This notebook shows how to implement a LRMC-NN imputer on some real-world data sets (e.g., PeMS traffic speed data, Guangzhou traffic speed data). To overcome the problem of missing values within multivariate time series data, this method takes into account the low-rank structure of data matrix."
   ]
  },
  {
   "cell_type": "code",
   "execution_count": 1,
   "metadata": {},
   "outputs": [],
   "source": [
    "import numpy as np\n",
    "from numpy.linalg import inv as inv"
   ]
  },
  {
   "cell_type": "markdown",
   "metadata": {},
   "source": [
    "### Define LRMC-imputer kernel\n",
    "\n",
    "We start by introducing the necessary function that relies on `Numpy`.\n",
    "\n",
    "<div class=\"alert alert-block alert-warning\">\n",
    "<ul>\n",
    "<li><b><code>svt</code>:</b> <font color=\"black\">Implement the process of Singular Value Thresholding (SVT).</font></li>\n",
    "</ul>\n",
    "</div>"
   ]
  },
  {
   "cell_type": "code",
   "execution_count": 2,
   "metadata": {},
   "outputs": [],
   "source": [
    "def svt(mat, tau):\n",
    "    u, s, v = np.linalg.svd(mat, full_matrices = 0)\n",
    "    vec = s - tau\n",
    "    vec[vec < 0] = 0\n",
    "    return np.matmul(np.matmul(u, np.diag(vec)), v)"
   ]
  },
  {
   "cell_type": "markdown",
   "metadata": {},
   "source": [
    "<div class=\"alert alert-block alert-warning\">\n",
    "<ul>\n",
    "<li><b><code>compute_mape</code>:</b> <font color=\"black\">Compute the value of Mean Absolute Percentage Error (MAPE).</font></li>\n",
    "<li><b><code>compute_rmse</code>:</b> <font color=\"black\">Compute the value of Root Mean Square Error (RMSE).</font></li>\n",
    "</ul>\n",
    "</div>\n",
    "\n",
    "> Note that $$\\mathrm{MAPE}=\\frac{1}{n} \\sum_{i=1}^{n} \\frac{\\left|y_{i}-\\hat{y}_{i}\\right|}{y_{i}} \\times 100, \\quad\\mathrm{RMSE}=\\sqrt{\\frac{1}{n} \\sum_{i=1}^{n}\\left(y_{i}-\\hat{y}_{i}\\right)^{2}},$$ where $n$ is the total number of estimated values, and $y_i$ and $\\hat{y}_i$ are the actual value and its estimation, respectively."
   ]
  },
  {
   "cell_type": "code",
   "execution_count": 3,
   "metadata": {},
   "outputs": [],
   "source": [
    "def compute_mape(var, var_hat):\n",
    "    return np.sum(np.abs(var - var_hat) / var) / var.shape[0]\n",
    "\n",
    "def compute_rmse(var, var_hat):\n",
    "    return  np.sqrt(np.sum((var - var_hat) ** 2) / var.shape[0])"
   ]
  },
  {
   "cell_type": "markdown",
   "metadata": {},
   "source": [
    "The main idea behind LRMC-NN-imputer is to approximate partially observed data with matrix low-rank structure. The following `imputer` kernel includes some necessary inputs:\n",
    "\n",
    "<div class=\"alert alert-block alert-warning\">\n",
    "<ul>\n",
    "<li><b><code>sparse_mat</code>:</b> <font color=\"black\">This is a partially observed matrix which has many missing entries.</font></li>\n",
    "<li><b><code>dense_mat</code>:</b> <font color=\"black\">This is an input which has the ground truth for validation. If this input is not available, you could use <code>dense_tensor = sparse_mat.copy()</code> instead.</font></li>\n",
    "<li><b><code>rho</code>:</b> <font color=\"black\">Learning rate for ADMM, e.g., <code>rho = 0.0005</code>. </font></li>\n",
    "<li><b><code>epsilon</code>:</b> <font color=\"black\">Stop criteria, e.g., <code>epsilon = 0.001</code>. </font></li>\n",
    "<li><b><code>maxiter</code>:</b> <font color=\"black\">Maximum iteration to stop algorithm, e.g., <code>maxiter = 50</code>. </font></li>\n",
    "</ul>\n",
    "</div>\n"
   ]
  },
  {
   "cell_type": "code",
   "execution_count": 4,
   "metadata": {},
   "outputs": [],
   "source": [
    "def imputer(dense_mat, sparse_mat, rho, epsilon, maxiter):\n",
    "    pos_train = np.where(sparse_mat != 0)\n",
    "    pos_test = np.where((sparse_mat == 0) & (dense_mat != 0))\n",
    "    binary_mat = sparse_mat.copy()\n",
    "    binary_mat[pos_train] = 1\n",
    "    snorm = np.linalg.norm(sparse_mat, 'fro')\n",
    "    X = sparse_mat.copy()\n",
    "    Z = sparse_mat.copy()\n",
    "    T = sparse_mat.copy()\n",
    "    last_X = np.ones_like(X) * np.inf\n",
    "    for it in range(maxiter):\n",
    "        Z = svt(X + T / rho, 1 / rho)\n",
    "        X = Z - T / rho\n",
    "        X[pos_train] = sparse_mat[pos_train]\n",
    "        T = T - rho * (Z - X)\n",
    "        tol = np.linalg.norm((X - last_X), 'fro') / snorm\n",
    "        last_X = X.copy()\n",
    "        if (it+1) % 200 == 0:\n",
    "            print('Iter: {}'.format(it))\n",
    "            print('Tolerance: {:.6}'.format(tol))\n",
    "            print('MAPE: {:.6}'.format(compute_mape(dense_mat[pos_test], X[pos_test])))\n",
    "            print('RMSE: {:.6}'.format(compute_rmse(dense_mat[pos_test], X[pos_test])))\n",
    "            print()\n",
    "        if (tol < epsilon):\n",
    "            break\n",
    "\n",
    "    print('Total iteration: {}'.format(it))\n",
    "    print('Tolerance: {:.6}'.format(tol))\n",
    "    print('Imputation MAPE: {:.6}'.format(compute_mape(dense_mat[pos_test], X[pos_test])))\n",
    "    print('Imputation RMSE: {:.6}'.format(compute_rmse(dense_mat[pos_test], X[pos_test])))\n",
    "    print()\n",
    "    return X"
   ]
  },
  {
   "cell_type": "markdown",
   "metadata": {},
   "source": [
    "### Guangzhou data\n",
    "\n",
    "We generate **random missing (RM)** values on Guangzhou traffic speed data set."
   ]
  },
  {
   "cell_type": "code",
   "execution_count": 5,
   "metadata": {},
   "outputs": [],
   "source": [
    "np.random.seed(110)"
   ]
  },
  {
   "cell_type": "code",
   "execution_count": 6,
   "metadata": {},
   "outputs": [
    {
     "name": "stdout",
     "output_type": "stream",
     "text": [
      "Matrix shape:\n",
      "(214, 8784)\n"
     ]
    }
   ],
   "source": [
    "import scipy.io\n",
    "\n",
    "def ten2mat(tensor, mode):\n",
    "    return np.reshape(np.moveaxis(tensor, mode, 0), (tensor.shape[mode], -1), order = 'F')\n",
    "\n",
    "tensor = scipy.io.loadmat('../../Guangzhou-data-set/tensor.mat')\n",
    "dense_tensor = tensor['tensor']\n",
    "random_tensor = scipy.io.loadmat('../../Guangzhou-data-set/random_tensor.mat')\n",
    "random_tensor = random_tensor['random_tensor']\n",
    "\n",
    "missing_rate = 0.2\n",
    "\n",
    "### Random missing (RM) scenario:\n",
    "binary_tensor = np.round(random_tensor + 0.5 - missing_rate)\n",
    "sparse_tensor = np.multiply(dense_tensor, binary_tensor)\n",
    "\n",
    "dense_tensor = np.transpose(dense_tensor, [0, 2, 1])\n",
    "sparse_tensor = np.transpose(sparse_tensor, [0, 2, 1])\n",
    "\n",
    "dense_mat = ten2mat(dense_tensor, 0)\n",
    "sparse_mat = ten2mat(sparse_tensor, 0)\n",
    "print('Matrix shape:')\n",
    "print(dense_mat.shape)"
   ]
  },
  {
   "cell_type": "markdown",
   "metadata": {},
   "source": [
    "We use `imputer` to fill in the missing entries and measure performance metrics on the ground truth."
   ]
  },
  {
   "cell_type": "code",
   "execution_count": 7,
   "metadata": {},
   "outputs": [
    {
     "name": "stdout",
     "output_type": "stream",
     "text": [
      "Total iteration: 69\n",
      "Tolerance: 8.56618e-05\n",
      "Imputation MAPE: 0.0975444\n",
      "Imputation RMSE: 4.02125\n",
      "\n",
      "Running time: 15 seconds\n"
     ]
    }
   ],
   "source": [
    "import time\n",
    "start = time.time()\n",
    "rho = 1e-4\n",
    "epsilon = 1e-4\n",
    "maxiter = 200\n",
    "mat_hat = imputer(dense_mat, sparse_mat, rho, epsilon, maxiter)\n",
    "end = time.time()\n",
    "print('Running time: %d seconds'%(end - start))"
   ]
  },
  {
   "cell_type": "code",
   "execution_count": 8,
   "metadata": {},
   "outputs": [
    {
     "name": "stdout",
     "output_type": "stream",
     "text": [
      "Matrix shape:\n",
      "(214, 8784)\n"
     ]
    }
   ],
   "source": [
    "import scipy.io\n",
    "\n",
    "def ten2mat(tensor, mode):\n",
    "    return np.reshape(np.moveaxis(tensor, mode, 0), (tensor.shape[mode], -1), order = 'F')\n",
    "\n",
    "tensor = scipy.io.loadmat('../../Guangzhou-data-set/tensor.mat')\n",
    "dense_tensor = tensor['tensor']\n",
    "random_tensor = scipy.io.loadmat('../../Guangzhou-data-set/random_tensor.mat')\n",
    "random_tensor = random_tensor['random_tensor']\n",
    "\n",
    "missing_rate = 0.4\n",
    "\n",
    "### Random missing (RM) scenario:\n",
    "binary_tensor = np.round(random_tensor + 0.5 - missing_rate)\n",
    "sparse_tensor = np.multiply(dense_tensor, binary_tensor)\n",
    "\n",
    "dense_tensor = np.transpose(dense_tensor, [0, 2, 1])\n",
    "sparse_tensor = np.transpose(sparse_tensor, [0, 2, 1])\n",
    "\n",
    "dense_mat = ten2mat(dense_tensor, 0)\n",
    "sparse_mat = ten2mat(sparse_tensor, 0)\n",
    "print('Matrix shape:')\n",
    "print(dense_mat.shape)"
   ]
  },
  {
   "cell_type": "code",
   "execution_count": 9,
   "metadata": {},
   "outputs": [
    {
     "name": "stdout",
     "output_type": "stream",
     "text": [
      "Total iteration: 95\n",
      "Tolerance: 8.08163e-05\n",
      "Imputation MAPE: 0.100902\n",
      "Imputation RMSE: 4.1457\n",
      "\n",
      "Running time: 20 seconds\n"
     ]
    }
   ],
   "source": [
    "import time\n",
    "start = time.time()\n",
    "rho = 1e-4\n",
    "epsilon = 1e-4\n",
    "maxiter = 200\n",
    "mat_hat = imputer(dense_mat, sparse_mat, rho, epsilon, maxiter)\n",
    "end = time.time()\n",
    "print('Running time: %d seconds'%(end - start))"
   ]
  },
  {
   "cell_type": "code",
   "execution_count": 10,
   "metadata": {},
   "outputs": [
    {
     "name": "stdout",
     "output_type": "stream",
     "text": [
      "Matrix shape:\n",
      "(214, 8784)\n"
     ]
    }
   ],
   "source": [
    "import scipy.io\n",
    "\n",
    "def ten2mat(tensor, mode):\n",
    "    return np.reshape(np.moveaxis(tensor, mode, 0), (tensor.shape[mode], -1), order = 'F')\n",
    "\n",
    "tensor = scipy.io.loadmat('../../Guangzhou-data-set/tensor.mat')\n",
    "dense_tensor = tensor['tensor']\n",
    "random_tensor = scipy.io.loadmat('../../Guangzhou-data-set/random_tensor.mat')\n",
    "random_tensor = random_tensor['random_tensor']\n",
    "\n",
    "missing_rate = 0.6\n",
    "\n",
    "### Random missing (RM) scenario:\n",
    "binary_tensor = np.round(random_tensor + 0.5 - missing_rate)\n",
    "sparse_tensor = np.multiply(dense_tensor, binary_tensor)\n",
    "\n",
    "dense_tensor = np.transpose(dense_tensor, [0, 2, 1])\n",
    "sparse_tensor = np.transpose(sparse_tensor, [0, 2, 1])\n",
    "\n",
    "dense_mat = ten2mat(dense_tensor, 0)\n",
    "sparse_mat = ten2mat(sparse_tensor, 0)\n",
    "print('Matrix shape:')\n",
    "print(dense_mat.shape)"
   ]
  },
  {
   "cell_type": "code",
   "execution_count": 11,
   "metadata": {},
   "outputs": [
    {
     "name": "stdout",
     "output_type": "stream",
     "text": [
      "Total iteration: 131\n",
      "Tolerance: 8.15136e-05\n",
      "Imputation MAPE: 0.10673\n",
      "Imputation RMSE: 4.34484\n",
      "\n",
      "Running time: 28 seconds\n"
     ]
    }
   ],
   "source": [
    "import time\n",
    "start = time.time()\n",
    "rho = 1e-4\n",
    "epsilon = 1e-4\n",
    "maxiter = 200\n",
    "mat_hat = imputer(dense_mat, sparse_mat, rho, epsilon, maxiter)\n",
    "end = time.time()\n",
    "print('Running time: %d seconds'%(end - start))"
   ]
  },
  {
   "cell_type": "markdown",
   "metadata": {},
   "source": [
    "We generate **non-random missing (NM)** values on Guangzhou traffic speed data set. Then, we conduct the imputation experiment."
   ]
  },
  {
   "cell_type": "code",
   "execution_count": 12,
   "metadata": {},
   "outputs": [
    {
     "name": "stdout",
     "output_type": "stream",
     "text": [
      "Matrix shape:\n",
      "(214, 8784)\n"
     ]
    }
   ],
   "source": [
    "import scipy.io\n",
    "\n",
    "def ten2mat(tensor, mode):\n",
    "    return np.reshape(np.moveaxis(tensor, mode, 0), (tensor.shape[mode], -1), order = 'F')\n",
    "\n",
    "tensor = scipy.io.loadmat('../../Guangzhou-data-set/tensor.mat')\n",
    "dense_tensor = tensor['tensor']\n",
    "random_matrix = scipy.io.loadmat('../../Guangzhou-data-set/random_matrix.mat')\n",
    "random_matrix = random_matrix['random_matrix']\n",
    "\n",
    "missing_rate = 0.2\n",
    "\n",
    "### Non-random missing (NM) scenario:\n",
    "binary_tensor = np.zeros(dense_tensor.shape)\n",
    "for i1 in range(dense_tensor.shape[0]):\n",
    "    for i2 in range(dense_tensor.shape[1]):\n",
    "        binary_tensor[i1, i2, :] = np.round(random_matrix[i1, i2] + 0.5 - missing_rate)\n",
    "sparse_tensor = np.multiply(dense_tensor, binary_tensor)\n",
    "\n",
    "dense_tensor = np.transpose(dense_tensor, [0, 2, 1])\n",
    "sparse_tensor = np.transpose(sparse_tensor, [0, 2, 1])\n",
    "\n",
    "dense_mat = ten2mat(dense_tensor, 0)\n",
    "sparse_mat = ten2mat(sparse_tensor, 0)\n",
    "print('Matrix shape:')\n",
    "print(dense_mat.shape)\n",
    "\n",
    "del tensor, random_matrix, binary_tensor"
   ]
  },
  {
   "cell_type": "code",
   "execution_count": 13,
   "metadata": {},
   "outputs": [
    {
     "name": "stdout",
     "output_type": "stream",
     "text": [
      "Total iteration: 66\n",
      "Tolerance: 9.74267e-05\n",
      "Imputation MAPE: 0.102178\n",
      "Imputation RMSE: 4.17095\n",
      "\n",
      "Running time: 15 seconds\n"
     ]
    }
   ],
   "source": [
    "import time\n",
    "start = time.time()\n",
    "rho = 1e-4\n",
    "epsilon = 1e-4\n",
    "maxiter = 200\n",
    "mat_hat = imputer(dense_mat, sparse_mat, rho, epsilon, maxiter)\n",
    "end = time.time()\n",
    "print('Running time: %d seconds'%(end - start))"
   ]
  },
  {
   "cell_type": "code",
   "execution_count": 14,
   "metadata": {},
   "outputs": [
    {
     "name": "stdout",
     "output_type": "stream",
     "text": [
      "Matrix shape:\n",
      "(214, 8784)\n"
     ]
    }
   ],
   "source": [
    "import scipy.io\n",
    "\n",
    "def ten2mat(tensor, mode):\n",
    "    return np.reshape(np.moveaxis(tensor, mode, 0), (tensor.shape[mode], -1), order = 'F')\n",
    "\n",
    "tensor = scipy.io.loadmat('../../Guangzhou-data-set/tensor.mat')\n",
    "dense_tensor = tensor['tensor']\n",
    "random_matrix = scipy.io.loadmat('../../Guangzhou-data-set/random_matrix.mat')\n",
    "random_matrix = random_matrix['random_matrix']\n",
    "\n",
    "missing_rate = 0.4\n",
    "\n",
    "### Non-random missing (NM) scenario:\n",
    "binary_tensor = np.zeros(dense_tensor.shape)\n",
    "for i1 in range(dense_tensor.shape[0]):\n",
    "    for i2 in range(dense_tensor.shape[1]):\n",
    "        binary_tensor[i1, i2, :] = np.round(random_matrix[i1, i2] + 0.5 - missing_rate)\n",
    "sparse_tensor = np.multiply(dense_tensor, binary_tensor)\n",
    "\n",
    "dense_tensor = np.transpose(dense_tensor, [0, 2, 1])\n",
    "sparse_tensor = np.transpose(sparse_tensor, [0, 2, 1])\n",
    "\n",
    "dense_mat = ten2mat(dense_tensor, 0)\n",
    "sparse_mat = ten2mat(sparse_tensor, 0)\n",
    "print('Matrix shape:')\n",
    "print(dense_mat.shape)\n",
    "\n",
    "del tensor, random_matrix, binary_tensor"
   ]
  },
  {
   "cell_type": "code",
   "execution_count": 15,
   "metadata": {},
   "outputs": [
    {
     "name": "stdout",
     "output_type": "stream",
     "text": [
      "Total iteration: 103\n",
      "Tolerance: 8.5583e-05\n",
      "Imputation MAPE: 0.105649\n",
      "Imputation RMSE: 4.3234\n",
      "\n",
      "Running time: 23 seconds\n"
     ]
    }
   ],
   "source": [
    "import time\n",
    "start = time.time()\n",
    "rho = 1e-4\n",
    "epsilon = 1e-4\n",
    "maxiter = 200\n",
    "mat_hat = imputer(dense_mat, sparse_mat, rho, epsilon, maxiter)\n",
    "end = time.time()\n",
    "print('Running time: %d seconds'%(end - start))"
   ]
  },
  {
   "cell_type": "code",
   "execution_count": 16,
   "metadata": {},
   "outputs": [
    {
     "name": "stdout",
     "output_type": "stream",
     "text": [
      "Matrix shape:\n",
      "(214, 8784)\n"
     ]
    }
   ],
   "source": [
    "import scipy.io\n",
    "\n",
    "def ten2mat(tensor, mode):\n",
    "    return np.reshape(np.moveaxis(tensor, mode, 0), (tensor.shape[mode], -1), order = 'F')\n",
    "\n",
    "tensor = scipy.io.loadmat('../../Guangzhou-data-set/tensor.mat')\n",
    "dense_tensor = tensor['tensor']\n",
    "random_matrix = scipy.io.loadmat('../../Guangzhou-data-set/random_matrix.mat')\n",
    "random_matrix = random_matrix['random_matrix']\n",
    "\n",
    "missing_rate = 0.6\n",
    "\n",
    "### Non-random missing (NM) scenario:\n",
    "binary_tensor = np.zeros(dense_tensor.shape)\n",
    "for i1 in range(dense_tensor.shape[0]):\n",
    "    for i2 in range(dense_tensor.shape[1]):\n",
    "        binary_tensor[i1, i2, :] = np.round(random_matrix[i1, i2] + 0.5 - missing_rate)\n",
    "sparse_tensor = np.multiply(dense_tensor, binary_tensor)\n",
    "\n",
    "dense_tensor = np.transpose(dense_tensor, [0, 2, 1])\n",
    "sparse_tensor = np.transpose(sparse_tensor, [0, 2, 1])\n",
    "\n",
    "dense_mat = ten2mat(dense_tensor, 0)\n",
    "sparse_mat = ten2mat(sparse_tensor, 0)\n",
    "print('Matrix shape:')\n",
    "print(dense_mat.shape)\n",
    "\n",
    "del tensor, random_matrix, binary_tensor"
   ]
  },
  {
   "cell_type": "code",
   "execution_count": 17,
   "metadata": {},
   "outputs": [
    {
     "name": "stdout",
     "output_type": "stream",
     "text": [
      "Total iteration: 165\n",
      "Tolerance: 9.56238e-05\n",
      "Imputation MAPE: 0.113354\n",
      "Imputation RMSE: 4.61244\n",
      "\n",
      "Running time: 36 seconds\n"
     ]
    }
   ],
   "source": [
    "import time\n",
    "start = time.time()\n",
    "rho = 1e-4\n",
    "epsilon = 1e-4\n",
    "maxiter = 200\n",
    "mat_hat = imputer(dense_mat, sparse_mat, rho, epsilon, maxiter)\n",
    "end = time.time()\n",
    "print('Running time: %d seconds'%(end - start))"
   ]
  },
  {
   "cell_type": "markdown",
   "metadata": {},
   "source": [
    "### PeMS data"
   ]
  },
  {
   "cell_type": "code",
   "execution_count": 18,
   "metadata": {},
   "outputs": [],
   "source": [
    "np.random.seed(122)"
   ]
  },
  {
   "cell_type": "code",
   "execution_count": 19,
   "metadata": {},
   "outputs": [
    {
     "name": "stdout",
     "output_type": "stream",
     "text": [
      "Matrix shape:\n",
      "(228, 12672)\n"
     ]
    }
   ],
   "source": [
    "dense_mat = np.load('../../PeMS-data-set/pems.npy')\n",
    "random_tensor = np.load('../../PeMS-data-set/random_tensor.npy')\n",
    "\n",
    "missing_rate = 0.2\n",
    "\n",
    "### Random missing (RM) scenario:\n",
    "binary_tensor = np.round(random_tensor + 0.5 - missing_rate)\n",
    "sparse_mat = np.multiply(dense_mat, ten2mat(binary_tensor, 0))\n",
    "\n",
    "print('Matrix shape:')\n",
    "print(dense_mat.shape)\n",
    "\n",
    "del random_tensor, binary_tensor"
   ]
  },
  {
   "cell_type": "code",
   "execution_count": 20,
   "metadata": {},
   "outputs": [
    {
     "name": "stdout",
     "output_type": "stream",
     "text": [
      "Total iteration: 84\n",
      "Tolerance: 8.83005e-05\n",
      "Imputation MAPE: 0.0672923\n",
      "Imputation RMSE: 4.65687\n",
      "\n",
      "Running time: 32 seconds\n"
     ]
    }
   ],
   "source": [
    "import time\n",
    "start = time.time()\n",
    "rho = 1e-4\n",
    "epsilon = 1e-4\n",
    "maxiter = 200\n",
    "mat_hat = imputer(dense_mat, sparse_mat, rho, epsilon, maxiter)\n",
    "end = time.time()\n",
    "print('Running time: %d seconds'%(end - start))"
   ]
  },
  {
   "cell_type": "code",
   "execution_count": 21,
   "metadata": {},
   "outputs": [
    {
     "name": "stdout",
     "output_type": "stream",
     "text": [
      "Matrix shape:\n",
      "(228, 12672)\n"
     ]
    }
   ],
   "source": [
    "dense_mat = np.load('../../PeMS-data-set/pems.npy')\n",
    "random_tensor = np.load('../../PeMS-data-set/random_tensor.npy')\n",
    "\n",
    "missing_rate = 0.4\n",
    "\n",
    "### Random missing (RM) scenario:\n",
    "binary_tensor = np.round(random_tensor + 0.5 - missing_rate)\n",
    "sparse_mat = np.multiply(dense_mat, ten2mat(binary_tensor, 0))\n",
    "\n",
    "print('Matrix shape:')\n",
    "print(dense_mat.shape)\n",
    "\n",
    "del random_tensor, binary_tensor"
   ]
  },
  {
   "cell_type": "code",
   "execution_count": 22,
   "metadata": {},
   "outputs": [
    {
     "name": "stdout",
     "output_type": "stream",
     "text": [
      "Total iteration: 90\n",
      "Tolerance: 8.95425e-05\n",
      "Imputation MAPE: 0.0744392\n",
      "Imputation RMSE: 5.04453\n",
      "\n",
      "Running time: 34 seconds\n"
     ]
    }
   ],
   "source": [
    "import time\n",
    "start = time.time()\n",
    "rho = 1e-4\n",
    "epsilon = 1e-4\n",
    "maxiter = 200\n",
    "mat_hat = imputer(dense_mat, sparse_mat, rho, epsilon, maxiter)\n",
    "end = time.time()\n",
    "print('Running time: %d seconds'%(end - start))"
   ]
  },
  {
   "cell_type": "code",
   "execution_count": 23,
   "metadata": {},
   "outputs": [
    {
     "name": "stdout",
     "output_type": "stream",
     "text": [
      "Matrix shape:\n",
      "(228, 12672)\n"
     ]
    }
   ],
   "source": [
    "dense_mat = np.load('../../PeMS-data-set/pems.npy')\n",
    "random_tensor = np.load('../../PeMS-data-set/random_tensor.npy')\n",
    "\n",
    "missing_rate = 0.6\n",
    "\n",
    "### Random missing (RM) scenario:\n",
    "binary_tensor = np.round(random_tensor + 0.5 - missing_rate)\n",
    "sparse_mat = np.multiply(dense_mat, ten2mat(binary_tensor, 0))\n",
    "\n",
    "print('Matrix shape:')\n",
    "print(dense_mat.shape)\n",
    "\n",
    "del random_tensor, binary_tensor"
   ]
  },
  {
   "cell_type": "code",
   "execution_count": 24,
   "metadata": {},
   "outputs": [
    {
     "name": "stdout",
     "output_type": "stream",
     "text": [
      "Total iteration: 114\n",
      "Tolerance: 7.78685e-05\n",
      "Imputation MAPE: 0.0844793\n",
      "Imputation RMSE: 5.57011\n",
      "\n",
      "Running time: 42 seconds\n"
     ]
    }
   ],
   "source": [
    "import time\n",
    "start = time.time()\n",
    "rho = 1e-4\n",
    "epsilon = 1e-4\n",
    "maxiter = 200\n",
    "mat_hat = imputer(dense_mat, sparse_mat, rho, epsilon, maxiter)\n",
    "end = time.time()\n",
    "print('Running time: %d seconds'%(end - start))"
   ]
  },
  {
   "cell_type": "code",
   "execution_count": 25,
   "metadata": {},
   "outputs": [
    {
     "name": "stdout",
     "output_type": "stream",
     "text": [
      "Matrix shape:\n",
      "(228, 12672)\n"
     ]
    }
   ],
   "source": [
    "dense_mat = np.load('../../PeMS-data-set/pems.npy')\n",
    "random_matrix = np.load('../../PeMS-data-set/random_matrix.npy')\n",
    "\n",
    "missing_rate = 0.2\n",
    "\n",
    "### Nonrandom missing (NM) scenario:\n",
    "binary_tensor = np.zeros((dense_mat.shape[0], 288, 44))\n",
    "for i1 in range(dense_mat.shape[0]):\n",
    "    for i2 in range(44):\n",
    "        binary_tensor[i1,:,i2] = np.round(random_matrix[i1,i2] + 0.5 - missing_rate)\n",
    "binary_mat = ten2mat(binary_tensor, 0)\n",
    "sparse_mat = np.multiply(dense_mat, binary_mat)\n",
    "\n",
    "print('Matrix shape:')\n",
    "print(dense_mat.shape)\n",
    "\n",
    "del random_matrix, binary_tensor"
   ]
  },
  {
   "cell_type": "code",
   "execution_count": 26,
   "metadata": {},
   "outputs": [
    {
     "name": "stdout",
     "output_type": "stream",
     "text": [
      "Total iteration: 75\n",
      "Tolerance: 9.9873e-05\n",
      "Imputation MAPE: 0.0769798\n",
      "Imputation RMSE: 5.22173\n",
      "\n",
      "Running time: 29 seconds\n"
     ]
    }
   ],
   "source": [
    "import time\n",
    "start = time.time()\n",
    "rho = 1e-4\n",
    "epsilon = 1e-4\n",
    "maxiter = 200\n",
    "mat_hat = imputer(dense_mat, sparse_mat, rho, epsilon, maxiter)\n",
    "end = time.time()\n",
    "print('Running time: %d seconds'%(end - start))"
   ]
  },
  {
   "cell_type": "code",
   "execution_count": 27,
   "metadata": {},
   "outputs": [
    {
     "name": "stdout",
     "output_type": "stream",
     "text": [
      "Matrix shape:\n",
      "(228, 12672)\n"
     ]
    }
   ],
   "source": [
    "dense_mat = np.load('../../PeMS-data-set/pems.npy')\n",
    "random_matrix = np.load('../../PeMS-data-set/random_matrix.npy')\n",
    "\n",
    "missing_rate = 0.4\n",
    "\n",
    "### Nonrandom missing (NM) scenario:\n",
    "binary_tensor = np.zeros((dense_mat.shape[0], 288, 44))\n",
    "for i1 in range(dense_mat.shape[0]):\n",
    "    for i2 in range(44):\n",
    "        binary_tensor[i1,:,i2] = np.round(random_matrix[i1,i2] + 0.5 - missing_rate)\n",
    "binary_mat = ten2mat(binary_tensor, 0)\n",
    "sparse_mat = np.multiply(dense_mat, binary_mat)\n",
    "\n",
    "print('Matrix shape:')\n",
    "print(dense_mat.shape)\n",
    "\n",
    "del random_matrix, binary_tensor"
   ]
  },
  {
   "cell_type": "code",
   "execution_count": 28,
   "metadata": {},
   "outputs": [
    {
     "name": "stdout",
     "output_type": "stream",
     "text": [
      "Total iteration: 99\n",
      "Tolerance: 9.64282e-05\n",
      "Imputation MAPE: 0.0840071\n",
      "Imputation RMSE: 5.6179\n",
      "\n",
      "Running time: 38 seconds\n"
     ]
    }
   ],
   "source": [
    "import time\n",
    "start = time.time()\n",
    "rho = 1e-4\n",
    "epsilon = 1e-4\n",
    "maxiter = 200\n",
    "mat_hat = imputer(dense_mat, sparse_mat, rho, epsilon, maxiter)\n",
    "end = time.time()\n",
    "print('Running time: %d seconds'%(end - start))"
   ]
  },
  {
   "cell_type": "code",
   "execution_count": 29,
   "metadata": {},
   "outputs": [
    {
     "name": "stdout",
     "output_type": "stream",
     "text": [
      "Matrix shape:\n",
      "(228, 12672)\n"
     ]
    }
   ],
   "source": [
    "dense_mat = np.load('../../PeMS-data-set/pems.npy')\n",
    "random_matrix = np.load('../../PeMS-data-set/random_matrix.npy')\n",
    "\n",
    "missing_rate = 0.6\n",
    "\n",
    "### Nonrandom missing (NM) scenario:\n",
    "binary_tensor = np.zeros((dense_mat.shape[0], 288, 44))\n",
    "for i1 in range(dense_mat.shape[0]):\n",
    "    for i2 in range(44):\n",
    "        binary_tensor[i1,:,i2] = np.round(random_matrix[i1,i2] + 0.5 - missing_rate)\n",
    "binary_mat = ten2mat(binary_tensor, 0)\n",
    "sparse_mat = np.multiply(dense_mat, binary_mat)\n",
    "\n",
    "print('Matrix shape:')\n",
    "print(dense_mat.shape)\n",
    "\n",
    "del random_matrix, binary_tensor"
   ]
  },
  {
   "cell_type": "code",
   "execution_count": 30,
   "metadata": {},
   "outputs": [
    {
     "name": "stdout",
     "output_type": "stream",
     "text": [
      "Total iteration: 141\n",
      "Tolerance: 9.15216e-05\n",
      "Imputation MAPE: 0.0984319\n",
      "Imputation RMSE: 6.30658\n",
      "\n",
      "Running time: 52 seconds\n"
     ]
    }
   ],
   "source": [
    "import time\n",
    "start = time.time()\n",
    "rho = 1e-4\n",
    "epsilon = 1e-4\n",
    "maxiter = 200\n",
    "mat_hat = imputer(dense_mat, sparse_mat, rho, epsilon, maxiter)\n",
    "end = time.time()\n",
    "print('Running time: %d seconds'%(end - start))"
   ]
  },
  {
   "cell_type": "markdown",
   "metadata": {},
   "source": [
    "### Electricity data"
   ]
  },
  {
   "cell_type": "markdown",
   "metadata": {},
   "source": [
    "- **Random Missing (RM)**:"
   ]
  },
  {
   "cell_type": "code",
   "execution_count": 31,
   "metadata": {},
   "outputs": [],
   "source": [
    "np.random.seed(400)"
   ]
  },
  {
   "cell_type": "code",
   "execution_count": 32,
   "metadata": {},
   "outputs": [
    {
     "name": "stdout",
     "output_type": "stream",
     "text": [
      "Matrix shape:\n",
      "(321, 840)\n"
     ]
    }
   ],
   "source": [
    "dense_mat = np.load('../../Electricity-data-set/electricity35.npy')\n",
    "random_tensor = np.load('../../Electricity-data-set/random_tensor.npy')\n",
    "\n",
    "missing_rate = 0.2\n",
    "\n",
    "### Random missing (RM) scenario:\n",
    "binary_tensor = np.round(random_tensor + 0.5 - missing_rate)\n",
    "sparse_mat = np.multiply(dense_mat, ten2mat(binary_tensor, 0))\n",
    "\n",
    "print('Matrix shape:')\n",
    "print(dense_mat.shape)\n",
    "\n",
    "del random_tensor, binary_tensor"
   ]
  },
  {
   "cell_type": "code",
   "execution_count": 33,
   "metadata": {},
   "outputs": [
    {
     "name": "stdout",
     "output_type": "stream",
     "text": [
      "Iter: 199\n",
      "Tolerance: 0.000610205\n",
      "MAPE: 0.110965\n",
      "RMSE: 5082.8\n",
      "\n",
      "Total iteration: 199\n",
      "Tolerance: 0.000610205\n",
      "Imputation MAPE: 0.110965\n",
      "Imputation RMSE: 5082.8\n",
      "\n",
      "Running time: 9 seconds\n"
     ]
    }
   ],
   "source": [
    "import time\n",
    "start = time.time()\n",
    "rho = 1e-4\n",
    "epsilon = 1e-4\n",
    "maxiter = 200\n",
    "mat_hat = imputer(dense_mat, sparse_mat, rho, epsilon, maxiter)\n",
    "end = time.time()\n",
    "print('Running time: %d seconds'%(end - start))"
   ]
  },
  {
   "cell_type": "code",
   "execution_count": 34,
   "metadata": {},
   "outputs": [
    {
     "name": "stdout",
     "output_type": "stream",
     "text": [
      "Matrix shape:\n",
      "(321, 840)\n"
     ]
    }
   ],
   "source": [
    "dense_mat = np.load('../../Electricity-data-set/electricity35.npy')\n",
    "random_tensor = np.load('../../Electricity-data-set/random_tensor.npy')\n",
    "\n",
    "missing_rate = 0.4\n",
    "\n",
    "### Random missing (RM) scenario:\n",
    "binary_tensor = np.round(random_tensor + 0.5 - missing_rate)\n",
    "sparse_mat = np.multiply(dense_mat, ten2mat(binary_tensor, 0))\n",
    "\n",
    "print('Matrix shape:')\n",
    "print(dense_mat.shape)\n",
    "\n",
    "del random_tensor, binary_tensor"
   ]
  },
  {
   "cell_type": "code",
   "execution_count": 35,
   "metadata": {},
   "outputs": [
    {
     "name": "stdout",
     "output_type": "stream",
     "text": [
      "Iter: 199\n",
      "Tolerance: 0.000986468\n",
      "MAPE: 0.125715\n",
      "RMSE: 6190.59\n",
      "\n",
      "Total iteration: 199\n",
      "Tolerance: 0.000986468\n",
      "Imputation MAPE: 0.125715\n",
      "Imputation RMSE: 6190.59\n",
      "\n",
      "Running time: 10 seconds\n"
     ]
    }
   ],
   "source": [
    "import time\n",
    "start = time.time()\n",
    "rho = 1e-4\n",
    "epsilon = 1e-4\n",
    "maxiter = 200\n",
    "mat_hat = imputer(dense_mat, sparse_mat, rho, epsilon, maxiter)\n",
    "end = time.time()\n",
    "print('Running time: %d seconds'%(end - start))"
   ]
  },
  {
   "cell_type": "code",
   "execution_count": 36,
   "metadata": {},
   "outputs": [
    {
     "name": "stdout",
     "output_type": "stream",
     "text": [
      "Matrix shape:\n",
      "(321, 840)\n"
     ]
    }
   ],
   "source": [
    "dense_mat = np.load('../../Electricity-data-set/electricity35.npy')\n",
    "random_tensor = np.load('../../Electricity-data-set/random_tensor.npy')\n",
    "\n",
    "missing_rate = 0.6\n",
    "\n",
    "### Random missing (RM) scenario:\n",
    "binary_tensor = np.round(random_tensor + 0.5 - missing_rate)\n",
    "sparse_mat = np.multiply(dense_mat, ten2mat(binary_tensor, 0))\n",
    "\n",
    "print('Matrix shape:')\n",
    "print(dense_mat.shape)\n",
    "\n",
    "del random_tensor, binary_tensor"
   ]
  },
  {
   "cell_type": "code",
   "execution_count": 37,
   "metadata": {},
   "outputs": [
    {
     "name": "stdout",
     "output_type": "stream",
     "text": [
      "Iter: 199\n",
      "Tolerance: 0.00121444\n",
      "MAPE: 0.150808\n",
      "RMSE: 7315.67\n",
      "\n",
      "Total iteration: 199\n",
      "Tolerance: 0.00121444\n",
      "Imputation MAPE: 0.150808\n",
      "Imputation RMSE: 7315.67\n",
      "\n",
      "Running time: 20 seconds\n"
     ]
    }
   ],
   "source": [
    "import time\n",
    "rho = 1e-4\n",
    "epsilon = 1e-4\n",
    "maxiter = 200\n",
    "mat_hat = imputer(dense_mat, sparse_mat, rho, epsilon, maxiter)\n",
    "end = time.time()\n",
    "print('Running time: %d seconds'%(end - start))"
   ]
  },
  {
   "cell_type": "code",
   "execution_count": 38,
   "metadata": {},
   "outputs": [
    {
     "name": "stdout",
     "output_type": "stream",
     "text": [
      "Matrix shape:\n",
      "(321, 840)\n"
     ]
    }
   ],
   "source": [
    "dense_mat = np.load('../../Electricity-data-set/electricity35.npy')\n",
    "random_matrix = np.load('../../Electricity-data-set/random_matrix.npy')\n",
    "\n",
    "missing_rate = 0.2\n",
    "\n",
    "### Nonrandom missing (NM) scenario:\n",
    "binary_tensor = np.zeros((dense_mat.shape[0], 24, 35))\n",
    "for i1 in range(dense_mat.shape[0]):\n",
    "    for i2 in range(35):\n",
    "        binary_tensor[i1,:,i2] = np.round(random_matrix[i1,i2] + 0.5 - missing_rate)\n",
    "binary_mat = ten2mat(binary_tensor, 0)\n",
    "sparse_mat = np.multiply(dense_mat, binary_mat)\n",
    "\n",
    "print('Matrix shape:')\n",
    "print(dense_mat.shape)\n",
    "\n",
    "del random_matrix, binary_tensor"
   ]
  },
  {
   "cell_type": "code",
   "execution_count": 39,
   "metadata": {},
   "outputs": [
    {
     "name": "stdout",
     "output_type": "stream",
     "text": [
      "Iter: 199\n",
      "Tolerance: 0.000594105\n",
      "MAPE: 0.174351\n",
      "RMSE: 3865.44\n",
      "\n",
      "Total iteration: 199\n",
      "Tolerance: 0.000594105\n",
      "Imputation MAPE: 0.174351\n",
      "Imputation RMSE: 3865.44\n",
      "\n",
      "Running time: 31 seconds\n"
     ]
    }
   ],
   "source": [
    "import time\n",
    "rho = 1e-4\n",
    "epsilon = 1e-4\n",
    "maxiter = 200\n",
    "mat_hat = imputer(dense_mat, sparse_mat, rho, epsilon, maxiter)\n",
    "end = time.time()\n",
    "print('Running time: %d seconds'%(end - start))"
   ]
  },
  {
   "cell_type": "code",
   "execution_count": 40,
   "metadata": {},
   "outputs": [
    {
     "name": "stdout",
     "output_type": "stream",
     "text": [
      "Matrix shape:\n",
      "(321, 840)\n"
     ]
    }
   ],
   "source": [
    "dense_mat = np.load('../../Electricity-data-set/electricity35.npy')\n",
    "random_matrix = np.load('../../Electricity-data-set/random_matrix.npy')\n",
    "\n",
    "missing_rate = 0.4\n",
    "\n",
    "### Nonrandom missing (NM) scenario:\n",
    "binary_tensor = np.zeros((dense_mat.shape[0], 24, 35))\n",
    "for i1 in range(dense_mat.shape[0]):\n",
    "    for i2 in range(35):\n",
    "        binary_tensor[i1,:,i2] = np.round(random_matrix[i1,i2] + 0.5 - missing_rate)\n",
    "binary_mat = ten2mat(binary_tensor, 0)\n",
    "sparse_mat = np.multiply(dense_mat, binary_mat)\n",
    "\n",
    "print('Matrix shape:')\n",
    "print(dense_mat.shape)\n",
    "\n",
    "del random_matrix, binary_tensor"
   ]
  },
  {
   "cell_type": "code",
   "execution_count": 41,
   "metadata": {},
   "outputs": [
    {
     "name": "stdout",
     "output_type": "stream",
     "text": [
      "Iter: 199\n",
      "Tolerance: 0.0008677\n",
      "MAPE: 0.16666\n",
      "RMSE: 6089.24\n",
      "\n",
      "Total iteration: 199\n",
      "Tolerance: 0.0008677\n",
      "Imputation MAPE: 0.16666\n",
      "Imputation RMSE: 6089.24\n",
      "\n",
      "Running time: 42 seconds\n"
     ]
    }
   ],
   "source": [
    "import time\n",
    "rho = 1e-4\n",
    "epsilon = 1e-4\n",
    "maxiter = 200\n",
    "mat_hat = imputer(dense_mat, sparse_mat, rho, epsilon, maxiter)\n",
    "end = time.time()\n",
    "print('Running time: %d seconds'%(end - start))"
   ]
  },
  {
   "cell_type": "code",
   "execution_count": 42,
   "metadata": {},
   "outputs": [
    {
     "name": "stdout",
     "output_type": "stream",
     "text": [
      "Matrix shape:\n",
      "(321, 840)\n"
     ]
    }
   ],
   "source": [
    "dense_mat = np.load('../../Electricity-data-set/electricity35.npy')\n",
    "random_matrix = np.load('../../Electricity-data-set/random_matrix.npy')\n",
    "\n",
    "missing_rate = 0.6\n",
    "\n",
    "### Nonrandom missing (NM) scenario:\n",
    "binary_tensor = np.zeros((dense_mat.shape[0], 24, 35))\n",
    "for i1 in range(dense_mat.shape[0]):\n",
    "    for i2 in range(35):\n",
    "        binary_tensor[i1,:,i2] = np.round(random_matrix[i1,i2] + 0.5 - missing_rate)\n",
    "binary_mat = ten2mat(binary_tensor, 0)\n",
    "sparse_mat = np.multiply(dense_mat, binary_mat)\n",
    "\n",
    "print('Matrix shape:')\n",
    "print(dense_mat.shape)\n",
    "\n",
    "del random_matrix, binary_tensor"
   ]
  },
  {
   "cell_type": "code",
   "execution_count": 43,
   "metadata": {},
   "outputs": [
    {
     "name": "stdout",
     "output_type": "stream",
     "text": [
      "Iter: 199\n",
      "Tolerance: 0.00110955\n",
      "MAPE: 0.195524\n",
      "RMSE: 7791.05\n",
      "\n",
      "Total iteration: 199\n",
      "Tolerance: 0.00110955\n",
      "Imputation MAPE: 0.195524\n",
      "Imputation RMSE: 7791.05\n",
      "\n",
      "Running time: 52 seconds\n"
     ]
    }
   ],
   "source": [
    "import time\n",
    "rho = 1e-4\n",
    "epsilon = 1e-4\n",
    "maxiter = 200\n",
    "mat_hat = imputer(dense_mat, sparse_mat, rho, epsilon, maxiter)\n",
    "end = time.time()\n",
    "print('Running time: %d seconds'%(end - start))"
   ]
  },
  {
   "cell_type": "markdown",
   "metadata": {},
   "source": [
    "### License\n",
    "\n",
    "<div class=\"alert alert-block alert-danger\">\n",
    "<b>This work is released under the MIT license.</b>\n",
    "</div>"
   ]
  }
 ],
 "metadata": {
  "kernelspec": {
   "display_name": "Python 3",
   "language": "python",
   "name": "python3"
  },
  "language_info": {
   "codemirror_mode": {
    "name": "ipython",
    "version": 3
   },
   "file_extension": ".py",
   "mimetype": "text/x-python",
   "name": "python",
   "nbconvert_exporter": "python",
   "pygments_lexer": "ipython3",
   "version": "3.7.3"
  },
  "nbTranslate": {
   "displayLangs": [
    "*"
   ],
   "hotkey": "alt-t",
   "langInMainMenu": true,
   "sourceLang": "en",
   "targetLang": "fr",
   "useGoogleTranslate": true
  }
 },
 "nbformat": 4,
 "nbformat_minor": 2
}
